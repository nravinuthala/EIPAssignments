{
  "nbformat": 4,
  "nbformat_minor": 0,
  "metadata": {
    "colab": {
      "name": "assignment1.ipynb",
      "provenance": [],
      "include_colab_link": true
    },
    "kernelspec": {
      "name": "python3",
      "display_name": "Python 3"
    }
  },
  "cells": [
    {
      "cell_type": "markdown",
      "metadata": {
        "id": "view-in-github",
        "colab_type": "text"
      },
      "source": [
        "<a href=\"https://colab.research.google.com/github/nravinuthala/EIPAssignments/blob/master/assignment1.ipynb\" target=\"_parent\"><img src=\"https://colab.research.google.com/assets/colab-badge.svg\" alt=\"Open In Colab\"/></a>"
      ]
    },
    {
      "cell_type": "code",
      "metadata": {
        "id": "8ti6sQmvCZPA",
        "colab_type": "code",
        "outputId": "3fb1e3da-6b52-4b90-ea93-08e2820fbf20",
        "colab": {
          "base_uri": "https://localhost:8080/",
          "height": 80
        }
      },
      "source": [
        "# https://keras.io/\n",
        "!pip install -q keras\n",
        "import keras"
      ],
      "execution_count": 1,
      "outputs": [
        {
          "output_type": "stream",
          "text": [
            "Using TensorFlow backend.\n"
          ],
          "name": "stderr"
        },
        {
          "output_type": "display_data",
          "data": {
            "text/html": [
              "<p style=\"color: red;\">\n",
              "The default version of TensorFlow in Colab will soon switch to TensorFlow 2.x.<br>\n",
              "We recommend you <a href=\"https://www.tensorflow.org/guide/migrate\" target=\"_blank\">upgrade</a> now \n",
              "or ensure your notebook will continue to use TensorFlow 1.x via the <code>%tensorflow_version 1.x</code> magic:\n",
              "<a href=\"https://colab.research.google.com/notebooks/tensorflow_version.ipynb\" target=\"_blank\">more info</a>.</p>\n"
            ],
            "text/plain": [
              "<IPython.core.display.HTML object>"
            ]
          },
          "metadata": {
            "tags": []
          }
        }
      ]
    },
    {
      "cell_type": "code",
      "metadata": {
        "id": "RoNJINrdCj8z",
        "colab_type": "code",
        "colab": {}
      },
      "source": [
        "import numpy as np\n",
        "\n",
        "from keras.models import Sequential\n",
        "from keras.layers import Dense, Dropout, Activation, Flatten, Add\n",
        "from keras.layers import Convolution2D, MaxPooling2D\n",
        "from keras.utils import np_utils\n",
        "\n",
        "from keras.datasets import mnist"
      ],
      "execution_count": 0,
      "outputs": []
    },
    {
      "cell_type": "code",
      "metadata": {
        "id": "0keULirmCpVY",
        "colab_type": "code",
        "colab": {
          "base_uri": "https://localhost:8080/",
          "height": 51
        },
        "outputId": "51b7871f-da2e-4f4f-a6a4-191b7b990609"
      },
      "source": [
        "(X_train, y_train), (X_test, y_test) = mnist.load_data()"
      ],
      "execution_count": 4,
      "outputs": [
        {
          "output_type": "stream",
          "text": [
            "Downloading data from https://s3.amazonaws.com/img-datasets/mnist.npz\n",
            "11493376/11490434 [==============================] - 1s 0us/step\n"
          ],
          "name": "stdout"
        }
      ]
    },
    {
      "cell_type": "code",
      "metadata": {
        "id": "s0_EYe0bCsck",
        "colab_type": "code",
        "colab": {}
      },
      "source": [
        "X_train = X_train.reshape(X_train.shape[0], 28, 28,1)\n",
        "X_test = X_test.reshape(X_test.shape[0], 28, 28,1)"
      ],
      "execution_count": 0,
      "outputs": []
    },
    {
      "cell_type": "code",
      "metadata": {
        "id": "Smi_HURDCvZp",
        "colab_type": "code",
        "colab": {}
      },
      "source": [
        "X_train = X_train.astype('float32')\n",
        "X_test = X_test.astype('float32')\n",
        "X_train /= 255\n",
        "X_test /= 255"
      ],
      "execution_count": 0,
      "outputs": []
    },
    {
      "cell_type": "code",
      "metadata": {
        "id": "yuyLSc6XCx3T",
        "colab_type": "code",
        "outputId": "2070ff76-06d6-4ce6-dd30-ac3f0910b1a4",
        "colab": {
          "base_uri": "https://localhost:8080/",
          "height": 34
        }
      },
      "source": [
        "y_train[:10]"
      ],
      "execution_count": 9,
      "outputs": [
        {
          "output_type": "execute_result",
          "data": {
            "text/plain": [
              "array([5, 0, 4, 1, 9, 2, 1, 3, 1, 4], dtype=uint8)"
            ]
          },
          "metadata": {
            "tags": []
          },
          "execution_count": 9
        }
      ]
    },
    {
      "cell_type": "code",
      "metadata": {
        "id": "7w8cNvAYC0hH",
        "colab_type": "code",
        "colab": {}
      },
      "source": [
        "Y_train = np_utils.to_categorical(y_train, 10)\n",
        "Y_test = np_utils.to_categorical(y_test, 10)"
      ],
      "execution_count": 0,
      "outputs": []
    },
    {
      "cell_type": "code",
      "metadata": {
        "id": "uWjYH8vlC2yt",
        "colab_type": "code",
        "outputId": "c997af54-b997-4b93-e945-1efcef38b033",
        "colab": {
          "base_uri": "https://localhost:8080/",
          "height": 187
        }
      },
      "source": [
        "Y_train[:10]"
      ],
      "execution_count": 11,
      "outputs": [
        {
          "output_type": "execute_result",
          "data": {
            "text/plain": [
              "array([[0., 0., 0., 0., 0., 1., 0., 0., 0., 0.],\n",
              "       [1., 0., 0., 0., 0., 0., 0., 0., 0., 0.],\n",
              "       [0., 0., 0., 0., 1., 0., 0., 0., 0., 0.],\n",
              "       [0., 1., 0., 0., 0., 0., 0., 0., 0., 0.],\n",
              "       [0., 0., 0., 0., 0., 0., 0., 0., 0., 1.],\n",
              "       [0., 0., 1., 0., 0., 0., 0., 0., 0., 0.],\n",
              "       [0., 1., 0., 0., 0., 0., 0., 0., 0., 0.],\n",
              "       [0., 0., 0., 1., 0., 0., 0., 0., 0., 0.],\n",
              "       [0., 1., 0., 0., 0., 0., 0., 0., 0., 0.],\n",
              "       [0., 0., 0., 0., 1., 0., 0., 0., 0., 0.]], dtype=float32)"
            ]
          },
          "metadata": {
            "tags": []
          },
          "execution_count": 11
        }
      ]
    },
    {
      "cell_type": "code",
      "metadata": {
        "id": "GrtLP-QQC5SM",
        "colab_type": "code",
        "outputId": "f2dbff40-06d9-4742-f6a4-1611d905858c",
        "colab": {
          "base_uri": "https://localhost:8080/",
          "height": 615
        }
      },
      "source": [
        "from keras.layers import Activation\n",
        "model = Sequential()\n",
        "\n",
        " \n",
        "model.add(Convolution2D(8, 3, activation='relu', input_shape=(28,28,1)))\n",
        "model.add(Convolution2D(16, 3, activation='relu'))\n",
        "model.add(Convolution2D(32, 1, activation='relu'))\n",
        "model.add(MaxPooling2D(pool_size=(2, 2)))\n",
        "model.add(Convolution2D(8, 3, 3, activation='relu'))\n",
        "model.add(Convolution2D(16, 3, 3, activation='relu'))\n",
        "model.add(Convolution2D(32, 3, 3, activation='relu'))\n",
        "model.add(Convolution2D(10, 6))\n",
        "model.add(Flatten())\n",
        "model.add(Activation('softmax'))\n",
        "\n",
        "model.summary()"
      ],
      "execution_count": 60,
      "outputs": [
        {
          "output_type": "stream",
          "text": [
            "Model: \"sequential_35\"\n",
            "_________________________________________________________________\n",
            "Layer (type)                 Output Shape              Param #   \n",
            "=================================================================\n",
            "conv2d_128 (Conv2D)          (None, 26, 26, 8)         80        \n",
            "_________________________________________________________________\n",
            "conv2d_129 (Conv2D)          (None, 24, 24, 16)        1168      \n",
            "_________________________________________________________________\n",
            "conv2d_130 (Conv2D)          (None, 24, 24, 32)        544       \n",
            "_________________________________________________________________\n",
            "max_pooling2d_24 (MaxPooling (None, 12, 12, 32)        0         \n",
            "_________________________________________________________________\n",
            "conv2d_131 (Conv2D)          (None, 10, 10, 8)         2312      \n",
            "_________________________________________________________________\n",
            "conv2d_132 (Conv2D)          (None, 8, 8, 16)          1168      \n",
            "_________________________________________________________________\n",
            "conv2d_133 (Conv2D)          (None, 6, 6, 32)          4640      \n",
            "_________________________________________________________________\n",
            "conv2d_134 (Conv2D)          (None, 1, 1, 10)          11530     \n",
            "_________________________________________________________________\n",
            "flatten_29 (Flatten)         (None, 10)                0         \n",
            "_________________________________________________________________\n",
            "activation_29 (Activation)   (None, 10)                0         \n",
            "=================================================================\n",
            "Total params: 21,442\n",
            "Trainable params: 21,442\n",
            "Non-trainable params: 0\n",
            "_________________________________________________________________\n"
          ],
          "name": "stdout"
        },
        {
          "output_type": "stream",
          "text": [
            "/usr/local/lib/python3.6/dist-packages/ipykernel_launcher.py:9: UserWarning: Update your `Conv2D` call to the Keras 2 API: `Conv2D(8, (3, 3), activation=\"relu\")`\n",
            "  if __name__ == '__main__':\n",
            "/usr/local/lib/python3.6/dist-packages/ipykernel_launcher.py:10: UserWarning: Update your `Conv2D` call to the Keras 2 API: `Conv2D(16, (3, 3), activation=\"relu\")`\n",
            "  # Remove the CWD from sys.path while we load stuff.\n",
            "/usr/local/lib/python3.6/dist-packages/ipykernel_launcher.py:11: UserWarning: Update your `Conv2D` call to the Keras 2 API: `Conv2D(32, (3, 3), activation=\"relu\")`\n",
            "  # This is added back by InteractiveShellApp.init_path()\n"
          ],
          "name": "stderr"
        }
      ]
    },
    {
      "cell_type": "code",
      "metadata": {
        "id": "Als_t-jmC9Jw",
        "colab_type": "code",
        "colab": {}
      },
      "source": [
        "model.compile(loss='categorical_crossentropy',\n",
        "             optimizer='adam',\n",
        "             metrics=['accuracy'])"
      ],
      "execution_count": 0,
      "outputs": []
    },
    {
      "cell_type": "code",
      "metadata": {
        "id": "4ZbdXiwuC-KY",
        "colab_type": "code",
        "outputId": "964d6369-843b-4c36-dc5d-1cf3a3299cf8",
        "colab": {
          "base_uri": "https://localhost:8080/",
          "height": 408
        }
      },
      "source": [
        "model.fit(X_train, Y_train, batch_size=32, nb_epoch=10, verbose=1)"
      ],
      "execution_count": 62,
      "outputs": [
        {
          "output_type": "stream",
          "text": [
            "/usr/local/lib/python3.6/dist-packages/ipykernel_launcher.py:1: UserWarning: The `nb_epoch` argument in `fit` has been renamed `epochs`.\n",
            "  \"\"\"Entry point for launching an IPython kernel.\n"
          ],
          "name": "stderr"
        },
        {
          "output_type": "stream",
          "text": [
            "Epoch 1/10\n",
            "60000/60000 [==============================] - 72s 1ms/step - loss: 0.1861 - acc: 0.9417\n",
            "Epoch 2/10\n",
            "60000/60000 [==============================] - 72s 1ms/step - loss: 0.0564 - acc: 0.9826\n",
            "Epoch 3/10\n",
            "60000/60000 [==============================] - 72s 1ms/step - loss: 0.0425 - acc: 0.9863\n",
            "Epoch 4/10\n",
            "60000/60000 [==============================] - 71s 1ms/step - loss: 0.0336 - acc: 0.9897\n",
            "Epoch 5/10\n",
            "60000/60000 [==============================] - 71s 1ms/step - loss: 0.0287 - acc: 0.9909\n",
            "Epoch 6/10\n",
            "60000/60000 [==============================] - 70s 1ms/step - loss: 0.0246 - acc: 0.9921\n",
            "Epoch 7/10\n",
            "60000/60000 [==============================] - 70s 1ms/step - loss: 0.0209 - acc: 0.9930\n",
            "Epoch 8/10\n",
            "60000/60000 [==============================] - 70s 1ms/step - loss: 0.0183 - acc: 0.9940\n",
            "Epoch 9/10\n",
            "60000/60000 [==============================] - 70s 1ms/step - loss: 0.0158 - acc: 0.9947\n",
            "Epoch 10/10\n",
            "60000/60000 [==============================] - 70s 1ms/step - loss: 0.0148 - acc: 0.9951\n"
          ],
          "name": "stdout"
        },
        {
          "output_type": "execute_result",
          "data": {
            "text/plain": [
              "<keras.callbacks.History at 0x7f246bbeee80>"
            ]
          },
          "metadata": {
            "tags": []
          },
          "execution_count": 62
        }
      ]
    },
    {
      "cell_type": "code",
      "metadata": {
        "id": "jRpN5b2aMfEC",
        "colab_type": "code",
        "outputId": "ed0f5607-590b-49ee-97c3-25335045efef",
        "colab": {
          "base_uri": "https://localhost:8080/",
          "height": 34
        }
      },
      "source": [
        "score = model.evaluate(X_test, Y_test, verbose=0)\n",
        "print(score)"
      ],
      "execution_count": 63,
      "outputs": [
        {
          "output_type": "stream",
          "text": [
            "[0.03966653256598884, 0.99]\n"
          ],
          "name": "stdout"
        }
      ]
    },
    {
      "cell_type": "code",
      "metadata": {
        "id": "m_e5V_9BM2rm",
        "colab_type": "code",
        "colab": {}
      },
      "source": [
        "y_pred = model.predict(X_test)"
      ],
      "execution_count": 0,
      "outputs": []
    },
    {
      "cell_type": "code",
      "metadata": {
        "id": "YH8A3h0qM_2i",
        "colab_type": "code",
        "outputId": "6b991f8e-bdbe-4ef2-bd63-50e1d31750c6",
        "colab": {
          "base_uri": "https://localhost:8080/",
          "height": 493
        }
      },
      "source": [
        "print(y_pred[:9])\n",
        "print(y_test[:9])"
      ],
      "execution_count": 65,
      "outputs": [
        {
          "output_type": "stream",
          "text": [
            "[[1.67942949e-12 5.66393026e-12 1.62515704e-07 1.52115445e-06\n",
            "  6.01645310e-18 4.32862330e-14 8.26446430e-25 9.99997020e-01\n",
            "  4.60926408e-10 1.32094794e-06]\n",
            " [1.58152415e-11 1.25403719e-14 9.99999523e-01 1.57166063e-15\n",
            "  1.43273455e-14 8.90542971e-21 4.40626053e-07 9.87101355e-25\n",
            "  7.37110650e-11 1.74948554e-23]\n",
            " [3.98070410e-10 9.99995947e-01 4.51938789e-08 2.19203544e-10\n",
            "  4.05151866e-07 2.99840958e-10 1.74754064e-07 3.41868918e-06\n",
            "  1.56297322e-08 1.47617296e-09]\n",
            " [9.99998689e-01 1.91697653e-20 1.44382797e-13 7.18749469e-14\n",
            "  1.59925756e-13 7.32243363e-11 1.35927564e-06 6.28715342e-13\n",
            "  2.23938201e-09 7.98791533e-10]\n",
            " [1.64198650e-15 3.18763621e-21 3.08577957e-15 1.65848979e-18\n",
            "  9.99999881e-01 1.75176112e-18 3.04132804e-13 1.33065498e-15\n",
            "  2.07004761e-11 1.08439522e-07]\n",
            " [1.23153779e-10 9.99993801e-01 8.92422634e-08 5.87784543e-11\n",
            "  8.91779052e-07 3.03716037e-12 1.61557867e-09 5.29517547e-06\n",
            "  1.10776215e-08 2.34573094e-09]\n",
            " [1.09637794e-22 8.00299281e-16 5.60524159e-16 6.49946930e-15\n",
            "  9.99997258e-01 4.76867400e-11 2.36914334e-20 1.18653309e-10\n",
            "  1.87342175e-06 8.68164818e-07]\n",
            " [1.58045481e-18 2.56586507e-14 7.13839252e-13 2.53100687e-12\n",
            "  5.70117553e-09 2.05840835e-12 1.27622861e-20 9.80321258e-17\n",
            "  1.78465021e-10 1.00000000e+00]\n",
            " [1.57992773e-13 4.62664363e-26 4.27132288e-14 5.04133628e-16\n",
            "  6.85272609e-18 9.99992013e-01 5.90399907e-09 2.43339427e-20\n",
            "  7.96612039e-06 2.89656740e-14]]\n",
            "[7 2 1 0 4 1 4 9 5]\n"
          ],
          "name": "stdout"
        }
      ]
    }
  ]
}